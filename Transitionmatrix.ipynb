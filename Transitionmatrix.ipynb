{
 "cells": [
  {
   "cell_type": "code",
   "execution_count": 1,
   "metadata": {},
   "outputs": [],
   "source": [
    "import pandas as pd\n",
    "import numpy as np\n",
    "\n",
    "def transition_matrix(day):\n",
    "    \"\"\"\n",
    "    calculates the transition matrix of a weekday and saves it as csv file\n",
    "    \"\"\"\n",
    "    df=pd.read_csv(f'./data/weekday/{day}.csv', sep=';', parse_dates=['timestamp'])\n",
    "    df_sorted = df.sort_values(by=['customer_no','timestamp'])\n",
    "    df_sorted['time_diff'] = df_sorted.groupby('customer_no')['timestamp'].diff()\n",
    "    df_sorted.set_index('timestamp', inplace=True)\n",
    "    df_resampled=df_sorted.groupby('customer_no').resample('1T').ffill()\n",
    "    df_resampled.drop(columns=['customer_no'], inplace=True)\n",
    "    df_resampled['next_location'] = df_resampled.groupby('customer_no')['location'].shift(-1)\n",
    "    df_resampled['next_location'].fillna(value='checkout', inplace=True)\n",
    "    transition_matrix = pd.crosstab(df_resampled['location'], df_resampled['next_location'], normalize='index')\n",
    "    transition_matrix.to_csv(f'./data/transition_matrices/transition_matrix_{day}.csv')\n",
    "    return transition_matrix"
   ]
  },
  {
   "cell_type": "code",
   "execution_count": 2,
   "metadata": {},
   "outputs": [],
   "source": [
    "transition_matrix_monday=transition_matrix('monday')"
   ]
  },
  {
   "cell_type": "code",
   "execution_count": 3,
   "metadata": {},
   "outputs": [],
   "source": [
    "transition_matrix_tuesday=transition_matrix('tuesday')"
   ]
  },
  {
   "cell_type": "code",
   "execution_count": 4,
   "metadata": {},
   "outputs": [],
   "source": [
    "transition_matrix_wednesday=transition_matrix('wednesday')"
   ]
  },
  {
   "cell_type": "code",
   "execution_count": 5,
   "metadata": {},
   "outputs": [],
   "source": [
    "transition_matrix_thursday=transition_matrix('thursday')"
   ]
  },
  {
   "cell_type": "code",
   "execution_count": 6,
   "metadata": {},
   "outputs": [],
   "source": [
    "transition_matrix_friday=transition_matrix('friday')"
   ]
  },
  {
   "cell_type": "code",
   "execution_count": 7,
   "metadata": {},
   "outputs": [],
   "source": [
    "transition_matrix_average=(transition_matrix_monday+transition_matrix_tuesday+transition_matrix_wednesday\n",
    "                          +transition_matrix_thursday+transition_matrix_friday)/5"
   ]
  },
  {
   "cell_type": "code",
   "execution_count": 8,
   "metadata": {},
   "outputs": [],
   "source": [
    "transition_matrix_average.to_csv('./data/transition_matrices/transition_matrix_average.csv')"
   ]
  },
  {
   "cell_type": "code",
   "execution_count": null,
   "metadata": {},
   "outputs": [],
   "source": []
  }
 ],
 "metadata": {
  "kernelspec": {
   "display_name": "Python 3",
   "language": "python",
   "name": "python3"
  },
  "language_info": {
   "codemirror_mode": {
    "name": "ipython",
    "version": 3
   },
   "file_extension": ".py",
   "mimetype": "text/x-python",
   "name": "python",
   "nbconvert_exporter": "python",
   "pygments_lexer": "ipython3",
   "version": "3.8.5"
  }
 },
 "nbformat": 4,
 "nbformat_minor": 4
}
