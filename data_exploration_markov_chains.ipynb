{
 "metadata": {
  "language_info": {
   "codemirror_mode": {
    "name": "ipython",
    "version": 3
   },
   "file_extension": ".py",
   "mimetype": "text/x-python",
   "name": "python",
   "nbconvert_exporter": "python",
   "pygments_lexer": "ipython3",
   "version": "3.8.8"
  },
  "orig_nbformat": 4,
  "kernelspec": {
   "name": "python3",
   "display_name": "Python 3.8.8 64-bit ('base': conda)"
  },
  "interpreter": {
   "hash": "7e5a2f5a3a9109e80e34b68a3474d6f7242ea6943e0bdc6e4f2307dd11f38cd7"
  }
 },
 "nbformat": 4,
 "nbformat_minor": 2,
 "cells": [
  {
   "cell_type": "code",
   "execution_count": 1,
   "metadata": {},
   "outputs": [],
   "source": [
    "import pandas as pd\n",
    "import matplotlib.pyplot as plt\n",
    "import seaborn as sns\n",
    "import numpy as np"
   ]
  },
  {
   "cell_type": "code",
   "execution_count": 5,
   "metadata": {},
   "outputs": [
    {
     "output_type": "execute_result",
     "data": {
      "text/plain": [
       "               timestamp  customer_no  location\n",
       "0    2019-09-02 07:03:00            1     dairy\n",
       "1    2019-09-02 07:03:00            2     dairy\n",
       "2    2019-09-02 07:04:00            3     dairy\n",
       "3    2019-09-02 07:04:00            4     dairy\n",
       "4    2019-09-02 07:04:00            5    spices\n",
       "...                  ...          ...       ...\n",
       "4879 2019-09-02 21:49:00         1442  checkout\n",
       "4880 2019-09-02 21:49:00         1444  checkout\n",
       "4881 2019-09-02 21:49:00         1445     dairy\n",
       "4882 2019-09-02 21:50:00         1446     dairy\n",
       "4883 2019-09-02 21:50:00         1447     fruit\n",
       "\n",
       "[4884 rows x 3 columns]"
      ],
      "text/html": "<div>\n<style scoped>\n    .dataframe tbody tr th:only-of-type {\n        vertical-align: middle;\n    }\n\n    .dataframe tbody tr th {\n        vertical-align: top;\n    }\n\n    .dataframe thead th {\n        text-align: right;\n    }\n</style>\n<table border=\"1\" class=\"dataframe\">\n  <thead>\n    <tr style=\"text-align: right;\">\n      <th></th>\n      <th>timestamp</th>\n      <th>customer_no</th>\n      <th>location</th>\n    </tr>\n  </thead>\n  <tbody>\n    <tr>\n      <th>0</th>\n      <td>2019-09-02 07:03:00</td>\n      <td>1</td>\n      <td>dairy</td>\n    </tr>\n    <tr>\n      <th>1</th>\n      <td>2019-09-02 07:03:00</td>\n      <td>2</td>\n      <td>dairy</td>\n    </tr>\n    <tr>\n      <th>2</th>\n      <td>2019-09-02 07:04:00</td>\n      <td>3</td>\n      <td>dairy</td>\n    </tr>\n    <tr>\n      <th>3</th>\n      <td>2019-09-02 07:04:00</td>\n      <td>4</td>\n      <td>dairy</td>\n    </tr>\n    <tr>\n      <th>4</th>\n      <td>2019-09-02 07:04:00</td>\n      <td>5</td>\n      <td>spices</td>\n    </tr>\n    <tr>\n      <th>...</th>\n      <td>...</td>\n      <td>...</td>\n      <td>...</td>\n    </tr>\n    <tr>\n      <th>4879</th>\n      <td>2019-09-02 21:49:00</td>\n      <td>1442</td>\n      <td>checkout</td>\n    </tr>\n    <tr>\n      <th>4880</th>\n      <td>2019-09-02 21:49:00</td>\n      <td>1444</td>\n      <td>checkout</td>\n    </tr>\n    <tr>\n      <th>4881</th>\n      <td>2019-09-02 21:49:00</td>\n      <td>1445</td>\n      <td>dairy</td>\n    </tr>\n    <tr>\n      <th>4882</th>\n      <td>2019-09-02 21:50:00</td>\n      <td>1446</td>\n      <td>dairy</td>\n    </tr>\n    <tr>\n      <th>4883</th>\n      <td>2019-09-02 21:50:00</td>\n      <td>1447</td>\n      <td>fruit</td>\n    </tr>\n  </tbody>\n</table>\n<p>4884 rows × 3 columns</p>\n</div>"
     },
     "metadata": {},
     "execution_count": 5
    }
   ],
   "source": [
    "df_monday=pd.read_csv('./data/weekday/monday.csv', sep=';', parse_dates=['timestamp'])\n",
    "df_monday"
   ]
  },
  {
   "source": [
    "### Calculate the total number of customers in each section"
   ],
   "cell_type": "markdown",
   "metadata": {}
  },
  {
   "cell_type": "code",
   "execution_count": 6,
   "metadata": {},
   "outputs": [
    {
     "output_type": "execute_result",
     "data": {
      "text/plain": [
       "          timestamp  customer_no\n",
       "location                        \n",
       "checkout       1437         1437\n",
       "dairy           895          895\n",
       "drinks          797          797\n",
       "fruit          1005         1005\n",
       "spices          750          750"
      ],
      "text/html": "<div>\n<style scoped>\n    .dataframe tbody tr th:only-of-type {\n        vertical-align: middle;\n    }\n\n    .dataframe tbody tr th {\n        vertical-align: top;\n    }\n\n    .dataframe thead th {\n        text-align: right;\n    }\n</style>\n<table border=\"1\" class=\"dataframe\">\n  <thead>\n    <tr style=\"text-align: right;\">\n      <th></th>\n      <th>timestamp</th>\n      <th>customer_no</th>\n    </tr>\n    <tr>\n      <th>location</th>\n      <th></th>\n      <th></th>\n    </tr>\n  </thead>\n  <tbody>\n    <tr>\n      <th>checkout</th>\n      <td>1437</td>\n      <td>1437</td>\n    </tr>\n    <tr>\n      <th>dairy</th>\n      <td>895</td>\n      <td>895</td>\n    </tr>\n    <tr>\n      <th>drinks</th>\n      <td>797</td>\n      <td>797</td>\n    </tr>\n    <tr>\n      <th>fruit</th>\n      <td>1005</td>\n      <td>1005</td>\n    </tr>\n    <tr>\n      <th>spices</th>\n      <td>750</td>\n      <td>750</td>\n    </tr>\n  </tbody>\n</table>\n</div>"
     },
     "metadata": {},
     "execution_count": 6
    }
   ],
   "source": [
    "df_monday.groupby(['location']).count()"
   ]
  },
  {
   "source": [
    "### Calculate the total number of customers in each section over time"
   ],
   "cell_type": "markdown",
   "metadata": {}
  },
  {
   "cell_type": "code",
   "execution_count": 7,
   "metadata": {},
   "outputs": [
    {
     "output_type": "execute_result",
     "data": {
      "text/plain": [
       "location             checkout  dairy  drinks  fruit  spices\n",
       "timestamp                                                  \n",
       "2019-09-02 07:03:00       0.0    2.0     0.0    0.0     0.0\n",
       "2019-09-02 07:04:00       0.0    2.0     0.0    1.0     3.0\n",
       "2019-09-02 07:05:00       2.0    1.0     1.0    0.0     0.0\n",
       "2019-09-02 07:06:00       2.0    2.0     1.0    2.0     1.0\n",
       "2019-09-02 07:07:00       1.0    1.0     1.0    0.0     1.0\n",
       "...                       ...    ...     ...    ...     ...\n",
       "2019-09-02 21:46:00       1.0    0.0     2.0    1.0     2.0\n",
       "2019-09-02 21:47:00       2.0    2.0     0.0    2.0     0.0\n",
       "2019-09-02 21:48:00       2.0    2.0     2.0    0.0     1.0\n",
       "2019-09-02 21:49:00       2.0    1.0     0.0    2.0     2.0\n",
       "2019-09-02 21:50:00       0.0    1.0     0.0    1.0     0.0\n",
       "\n",
       "[874 rows x 5 columns]"
      ],
      "text/html": "<div>\n<style scoped>\n    .dataframe tbody tr th:only-of-type {\n        vertical-align: middle;\n    }\n\n    .dataframe tbody tr th {\n        vertical-align: top;\n    }\n\n    .dataframe thead th {\n        text-align: right;\n    }\n</style>\n<table border=\"1\" class=\"dataframe\">\n  <thead>\n    <tr style=\"text-align: right;\">\n      <th>location</th>\n      <th>checkout</th>\n      <th>dairy</th>\n      <th>drinks</th>\n      <th>fruit</th>\n      <th>spices</th>\n    </tr>\n    <tr>\n      <th>timestamp</th>\n      <th></th>\n      <th></th>\n      <th></th>\n      <th></th>\n      <th></th>\n    </tr>\n  </thead>\n  <tbody>\n    <tr>\n      <th>2019-09-02 07:03:00</th>\n      <td>0.0</td>\n      <td>2.0</td>\n      <td>0.0</td>\n      <td>0.0</td>\n      <td>0.0</td>\n    </tr>\n    <tr>\n      <th>2019-09-02 07:04:00</th>\n      <td>0.0</td>\n      <td>2.0</td>\n      <td>0.0</td>\n      <td>1.0</td>\n      <td>3.0</td>\n    </tr>\n    <tr>\n      <th>2019-09-02 07:05:00</th>\n      <td>2.0</td>\n      <td>1.0</td>\n      <td>1.0</td>\n      <td>0.0</td>\n      <td>0.0</td>\n    </tr>\n    <tr>\n      <th>2019-09-02 07:06:00</th>\n      <td>2.0</td>\n      <td>2.0</td>\n      <td>1.0</td>\n      <td>2.0</td>\n      <td>1.0</td>\n    </tr>\n    <tr>\n      <th>2019-09-02 07:07:00</th>\n      <td>1.0</td>\n      <td>1.0</td>\n      <td>1.0</td>\n      <td>0.0</td>\n      <td>1.0</td>\n    </tr>\n    <tr>\n      <th>...</th>\n      <td>...</td>\n      <td>...</td>\n      <td>...</td>\n      <td>...</td>\n      <td>...</td>\n    </tr>\n    <tr>\n      <th>2019-09-02 21:46:00</th>\n      <td>1.0</td>\n      <td>0.0</td>\n      <td>2.0</td>\n      <td>1.0</td>\n      <td>2.0</td>\n    </tr>\n    <tr>\n      <th>2019-09-02 21:47:00</th>\n      <td>2.0</td>\n      <td>2.0</td>\n      <td>0.0</td>\n      <td>2.0</td>\n      <td>0.0</td>\n    </tr>\n    <tr>\n      <th>2019-09-02 21:48:00</th>\n      <td>2.0</td>\n      <td>2.0</td>\n      <td>2.0</td>\n      <td>0.0</td>\n      <td>1.0</td>\n    </tr>\n    <tr>\n      <th>2019-09-02 21:49:00</th>\n      <td>2.0</td>\n      <td>1.0</td>\n      <td>0.0</td>\n      <td>2.0</td>\n      <td>2.0</td>\n    </tr>\n    <tr>\n      <th>2019-09-02 21:50:00</th>\n      <td>0.0</td>\n      <td>1.0</td>\n      <td>0.0</td>\n      <td>1.0</td>\n      <td>0.0</td>\n    </tr>\n  </tbody>\n</table>\n<p>874 rows × 5 columns</p>\n</div>"
     },
     "metadata": {},
     "execution_count": 7
    }
   ],
   "source": [
    "df_monday.groupby('timestamp')['location'].value_counts().unstack().fillna(0)"
   ]
  },
  {
   "source": [
    "### Calculate the time each customer spent in the market"
   ],
   "cell_type": "markdown",
   "metadata": {}
  },
  {
   "cell_type": "code",
   "execution_count": 9,
   "metadata": {},
   "outputs": [
    {
     "output_type": "execute_result",
     "data": {
      "text/plain": [
       "               timestamp  customer_no  location       time_diff\n",
       "0    2019-09-02 07:03:00            1     dairy             NaT\n",
       "8    2019-09-02 07:05:00            1  checkout 0 days 00:02:00\n",
       "1    2019-09-02 07:03:00            2     dairy             NaT\n",
       "12   2019-09-02 07:06:00            2  checkout 0 days 00:03:00\n",
       "2    2019-09-02 07:04:00            3     dairy             NaT\n",
       "...                  ...          ...       ...             ...\n",
       "4874 2019-09-02 21:48:00         1444    spices             NaT\n",
       "4880 2019-09-02 21:49:00         1444  checkout 0 days 00:01:00\n",
       "4881 2019-09-02 21:49:00         1445     dairy             NaT\n",
       "4882 2019-09-02 21:50:00         1446     dairy             NaT\n",
       "4883 2019-09-02 21:50:00         1447     fruit             NaT\n",
       "\n",
       "[4884 rows x 4 columns]"
      ],
      "text/html": "<div>\n<style scoped>\n    .dataframe tbody tr th:only-of-type {\n        vertical-align: middle;\n    }\n\n    .dataframe tbody tr th {\n        vertical-align: top;\n    }\n\n    .dataframe thead th {\n        text-align: right;\n    }\n</style>\n<table border=\"1\" class=\"dataframe\">\n  <thead>\n    <tr style=\"text-align: right;\">\n      <th></th>\n      <th>timestamp</th>\n      <th>customer_no</th>\n      <th>location</th>\n      <th>time_diff</th>\n    </tr>\n  </thead>\n  <tbody>\n    <tr>\n      <th>0</th>\n      <td>2019-09-02 07:03:00</td>\n      <td>1</td>\n      <td>dairy</td>\n      <td>NaT</td>\n    </tr>\n    <tr>\n      <th>8</th>\n      <td>2019-09-02 07:05:00</td>\n      <td>1</td>\n      <td>checkout</td>\n      <td>0 days 00:02:00</td>\n    </tr>\n    <tr>\n      <th>1</th>\n      <td>2019-09-02 07:03:00</td>\n      <td>2</td>\n      <td>dairy</td>\n      <td>NaT</td>\n    </tr>\n    <tr>\n      <th>12</th>\n      <td>2019-09-02 07:06:00</td>\n      <td>2</td>\n      <td>checkout</td>\n      <td>0 days 00:03:00</td>\n    </tr>\n    <tr>\n      <th>2</th>\n      <td>2019-09-02 07:04:00</td>\n      <td>3</td>\n      <td>dairy</td>\n      <td>NaT</td>\n    </tr>\n    <tr>\n      <th>...</th>\n      <td>...</td>\n      <td>...</td>\n      <td>...</td>\n      <td>...</td>\n    </tr>\n    <tr>\n      <th>4874</th>\n      <td>2019-09-02 21:48:00</td>\n      <td>1444</td>\n      <td>spices</td>\n      <td>NaT</td>\n    </tr>\n    <tr>\n      <th>4880</th>\n      <td>2019-09-02 21:49:00</td>\n      <td>1444</td>\n      <td>checkout</td>\n      <td>0 days 00:01:00</td>\n    </tr>\n    <tr>\n      <th>4881</th>\n      <td>2019-09-02 21:49:00</td>\n      <td>1445</td>\n      <td>dairy</td>\n      <td>NaT</td>\n    </tr>\n    <tr>\n      <th>4882</th>\n      <td>2019-09-02 21:50:00</td>\n      <td>1446</td>\n      <td>dairy</td>\n      <td>NaT</td>\n    </tr>\n    <tr>\n      <th>4883</th>\n      <td>2019-09-02 21:50:00</td>\n      <td>1447</td>\n      <td>fruit</td>\n      <td>NaT</td>\n    </tr>\n  </tbody>\n</table>\n<p>4884 rows × 4 columns</p>\n</div>"
     },
     "metadata": {},
     "execution_count": 9
    }
   ],
   "source": [
    "df_sorted = df_monday.sort_values(by=['customer_no','timestamp'])\n",
    "df_sorted['time_diff'] = df_sorted.groupby('customer_no')['timestamp'].diff()\n",
    "df_sorted"
   ]
  },
  {
   "cell_type": "code",
   "execution_count": 10,
   "metadata": {},
   "outputs": [
    {
     "output_type": "execute_result",
     "data": {
      "text/plain": [
       "customer_no\n",
       "1       120.0\n",
       "2       180.0\n",
       "3       120.0\n",
       "4       240.0\n",
       "5        60.0\n",
       "        ...  \n",
       "1443     60.0\n",
       "1444     60.0\n",
       "1445      0.0\n",
       "1446      0.0\n",
       "1447      0.0\n",
       "Name: total_spend_time, Length: 1447, dtype: float64"
      ]
     },
     "metadata": {},
     "execution_count": 10
    }
   ],
   "source": [
    "df_sorted['total_spend_time']=df_sorted['time_diff'].dt.seconds\n",
    "df_sorted.groupby('customer_no')['total_spend_time'].sum()"
   ]
  },
  {
   "source": [
    "#### Calculate the total number of customers in the supermarket over time\n"
   ],
   "cell_type": "markdown",
   "metadata": {}
  },
  {
   "cell_type": "code",
   "execution_count": 11,
   "metadata": {},
   "outputs": [
    {
     "output_type": "execute_result",
     "data": {
      "text/plain": [
       "timestamp\n",
       "2019-09-02 07:03:00    2\n",
       "2019-09-02 07:04:00    6\n",
       "2019-09-02 07:05:00    4\n",
       "2019-09-02 07:06:00    8\n",
       "2019-09-02 07:07:00    4\n",
       "                      ..\n",
       "2019-09-02 21:46:00    6\n",
       "2019-09-02 21:47:00    6\n",
       "2019-09-02 21:48:00    7\n",
       "2019-09-02 21:49:00    7\n",
       "2019-09-02 21:50:00    2\n",
       "Name: customer_no, Length: 874, dtype: int64"
      ]
     },
     "metadata": {},
     "execution_count": 11
    }
   ],
   "source": [
    "df_sorted.groupby('timestamp')['customer_no'].nunique()"
   ]
  },
  {
   "source": [
    "### Markov Chains - Transition Matrix"
   ],
   "cell_type": "markdown",
   "metadata": {}
  },
  {
   "cell_type": "code",
   "execution_count": 13,
   "metadata": {},
   "outputs": [
    {
     "output_type": "execute_result",
     "data": {
      "text/plain": [
       "fruit     0.359364\n",
       "dairy     0.284727\n",
       "spices    0.195577\n",
       "drinks    0.160332\n",
       "Name: location, dtype: float64"
      ]
     },
     "metadata": {},
     "execution_count": 13
    }
   ],
   "source": [
    "#Plot the distribution of customers of their first visited section versus following sections\n",
    "df_sorted['first'] = df_sorted['time_diff'].isna()\n",
    "first_sec=df_sorted.loc[df_sorted['first']]['location'].value_counts(normalize=True)\n",
    "first_sec"
   ]
  },
  {
   "cell_type": "code",
   "execution_count": 14,
   "metadata": {},
   "outputs": [
    {
     "output_type": "execute_result",
     "data": {
      "text/plain": [
       "checkout    0.418097\n",
       "drinks      0.164388\n",
       "fruit       0.141111\n",
       "dairy       0.140530\n",
       "spices      0.135874\n",
       "Name: location, dtype: float64"
      ]
     },
     "metadata": {},
     "execution_count": 14
    }
   ],
   "source": [
    "next_sec=df_sorted.loc[~df_sorted['first']]['location'].value_counts(normalize=True)\n",
    "next_sec"
   ]
  },
  {
   "cell_type": "code",
   "execution_count": 15,
   "metadata": {},
   "outputs": [
    {
     "output_type": "execute_result",
     "data": {
      "text/plain": [
       "                                 location\n",
       "customer_no timestamp                    \n",
       "1           2019-09-02 07:03:00     dairy\n",
       "            2019-09-02 07:04:00     dairy\n",
       "            2019-09-02 07:05:00  checkout\n",
       "2           2019-09-02 07:03:00     dairy\n",
       "            2019-09-02 07:04:00     dairy"
      ],
      "text/html": "<div>\n<style scoped>\n    .dataframe tbody tr th:only-of-type {\n        vertical-align: middle;\n    }\n\n    .dataframe tbody tr th {\n        vertical-align: top;\n    }\n\n    .dataframe thead th {\n        text-align: right;\n    }\n</style>\n<table border=\"1\" class=\"dataframe\">\n  <thead>\n    <tr style=\"text-align: right;\">\n      <th></th>\n      <th></th>\n      <th>location</th>\n    </tr>\n    <tr>\n      <th>customer_no</th>\n      <th>timestamp</th>\n      <th></th>\n    </tr>\n  </thead>\n  <tbody>\n    <tr>\n      <th rowspan=\"3\" valign=\"top\">1</th>\n      <th>2019-09-02 07:03:00</th>\n      <td>dairy</td>\n    </tr>\n    <tr>\n      <th>2019-09-02 07:04:00</th>\n      <td>dairy</td>\n    </tr>\n    <tr>\n      <th>2019-09-02 07:05:00</th>\n      <td>checkout</td>\n    </tr>\n    <tr>\n      <th rowspan=\"2\" valign=\"top\">2</th>\n      <th>2019-09-02 07:03:00</th>\n      <td>dairy</td>\n    </tr>\n    <tr>\n      <th>2019-09-02 07:04:00</th>\n      <td>dairy</td>\n    </tr>\n  </tbody>\n</table>\n</div>"
     },
     "metadata": {},
     "execution_count": 15
    }
   ],
   "source": [
    "df_sorted.drop(columns=['time_diff', 'first', 'total_spend_time'], inplace=True)\n",
    "df_sorted.set_index('timestamp', inplace=True)\n",
    "df_resampled=df_sorted.groupby('customer_no').resample('1T').ffill()\n",
    "df_resampled.drop(columns=['customer_no'], inplace=True)\n",
    "df_resampled.head()"
   ]
  },
  {
   "cell_type": "code",
   "execution_count": 16,
   "metadata": {},
   "outputs": [
    {
     "output_type": "execute_result",
     "data": {
      "text/plain": [
       "                                 location next_location\n",
       "customer_no timestamp                                  \n",
       "1           2019-09-02 07:03:00     dairy         dairy\n",
       "            2019-09-02 07:04:00     dairy      checkout\n",
       "            2019-09-02 07:05:00  checkout      checkout\n",
       "2           2019-09-02 07:03:00     dairy         dairy\n",
       "            2019-09-02 07:04:00     dairy         dairy\n",
       "...                                   ...           ...\n",
       "1444        2019-09-02 21:48:00    spices      checkout\n",
       "            2019-09-02 21:49:00  checkout      checkout\n",
       "1445        2019-09-02 21:49:00     dairy      checkout\n",
       "1446        2019-09-02 21:50:00     dairy      checkout\n",
       "1447        2019-09-02 21:50:00     fruit      checkout\n",
       "\n",
       "[10765 rows x 2 columns]"
      ],
      "text/html": "<div>\n<style scoped>\n    .dataframe tbody tr th:only-of-type {\n        vertical-align: middle;\n    }\n\n    .dataframe tbody tr th {\n        vertical-align: top;\n    }\n\n    .dataframe thead th {\n        text-align: right;\n    }\n</style>\n<table border=\"1\" class=\"dataframe\">\n  <thead>\n    <tr style=\"text-align: right;\">\n      <th></th>\n      <th></th>\n      <th>location</th>\n      <th>next_location</th>\n    </tr>\n    <tr>\n      <th>customer_no</th>\n      <th>timestamp</th>\n      <th></th>\n      <th></th>\n    </tr>\n  </thead>\n  <tbody>\n    <tr>\n      <th rowspan=\"3\" valign=\"top\">1</th>\n      <th>2019-09-02 07:03:00</th>\n      <td>dairy</td>\n      <td>dairy</td>\n    </tr>\n    <tr>\n      <th>2019-09-02 07:04:00</th>\n      <td>dairy</td>\n      <td>checkout</td>\n    </tr>\n    <tr>\n      <th>2019-09-02 07:05:00</th>\n      <td>checkout</td>\n      <td>checkout</td>\n    </tr>\n    <tr>\n      <th rowspan=\"2\" valign=\"top\">2</th>\n      <th>2019-09-02 07:03:00</th>\n      <td>dairy</td>\n      <td>dairy</td>\n    </tr>\n    <tr>\n      <th>2019-09-02 07:04:00</th>\n      <td>dairy</td>\n      <td>dairy</td>\n    </tr>\n    <tr>\n      <th>...</th>\n      <th>...</th>\n      <td>...</td>\n      <td>...</td>\n    </tr>\n    <tr>\n      <th rowspan=\"2\" valign=\"top\">1444</th>\n      <th>2019-09-02 21:48:00</th>\n      <td>spices</td>\n      <td>checkout</td>\n    </tr>\n    <tr>\n      <th>2019-09-02 21:49:00</th>\n      <td>checkout</td>\n      <td>checkout</td>\n    </tr>\n    <tr>\n      <th>1445</th>\n      <th>2019-09-02 21:49:00</th>\n      <td>dairy</td>\n      <td>checkout</td>\n    </tr>\n    <tr>\n      <th>1446</th>\n      <th>2019-09-02 21:50:00</th>\n      <td>dairy</td>\n      <td>checkout</td>\n    </tr>\n    <tr>\n      <th>1447</th>\n      <th>2019-09-02 21:50:00</th>\n      <td>fruit</td>\n      <td>checkout</td>\n    </tr>\n  </tbody>\n</table>\n<p>10765 rows × 2 columns</p>\n</div>"
     },
     "metadata": {},
     "execution_count": 16
    }
   ],
   "source": [
    "df_resampled['next_location'] = df_resampled.groupby('customer_no')['location'].shift(-1)\n",
    "df_resampled['next_location'].fillna(value='checkout', inplace=True)\n",
    "df_resampled"
   ]
  },
  {
   "source": [
    "### Transition Matrix"
   ],
   "cell_type": "markdown",
   "metadata": {}
  },
  {
   "cell_type": "code",
   "execution_count": 17,
   "metadata": {},
   "outputs": [
    {
     "output_type": "execute_result",
     "data": {
      "text/plain": [
       "next_location  checkout     dairy    drinks     fruit    spices\n",
       "location                                                       \n",
       "checkout       1.000000  0.000000  0.000000  0.000000  0.000000\n",
       "dairy          0.089843  0.743920  0.062375  0.051502  0.052361\n",
       "drinks         0.208109  0.011236  0.610650  0.090865  0.079140\n",
       "fruit          0.206411  0.087959  0.050821  0.607115  0.047694\n",
       "spices         0.145765  0.191368  0.176710  0.096906  0.389251"
      ],
      "text/html": "<div>\n<style scoped>\n    .dataframe tbody tr th:only-of-type {\n        vertical-align: middle;\n    }\n\n    .dataframe tbody tr th {\n        vertical-align: top;\n    }\n\n    .dataframe thead th {\n        text-align: right;\n    }\n</style>\n<table border=\"1\" class=\"dataframe\">\n  <thead>\n    <tr style=\"text-align: right;\">\n      <th>next_location</th>\n      <th>checkout</th>\n      <th>dairy</th>\n      <th>drinks</th>\n      <th>fruit</th>\n      <th>spices</th>\n    </tr>\n    <tr>\n      <th>location</th>\n      <th></th>\n      <th></th>\n      <th></th>\n      <th></th>\n      <th></th>\n    </tr>\n  </thead>\n  <tbody>\n    <tr>\n      <th>checkout</th>\n      <td>1.000000</td>\n      <td>0.000000</td>\n      <td>0.000000</td>\n      <td>0.000000</td>\n      <td>0.000000</td>\n    </tr>\n    <tr>\n      <th>dairy</th>\n      <td>0.089843</td>\n      <td>0.743920</td>\n      <td>0.062375</td>\n      <td>0.051502</td>\n      <td>0.052361</td>\n    </tr>\n    <tr>\n      <th>drinks</th>\n      <td>0.208109</td>\n      <td>0.011236</td>\n      <td>0.610650</td>\n      <td>0.090865</td>\n      <td>0.079140</td>\n    </tr>\n    <tr>\n      <th>fruit</th>\n      <td>0.206411</td>\n      <td>0.087959</td>\n      <td>0.050821</td>\n      <td>0.607115</td>\n      <td>0.047694</td>\n    </tr>\n    <tr>\n      <th>spices</th>\n      <td>0.145765</td>\n      <td>0.191368</td>\n      <td>0.176710</td>\n      <td>0.096906</td>\n      <td>0.389251</td>\n    </tr>\n  </tbody>\n</table>\n</div>"
     },
     "metadata": {},
     "execution_count": 17
    }
   ],
   "source": [
    "transition_matrix_monday = pd.crosstab(df_resampled['location'], df_resampled['next_location'], normalize='index')\n",
    "transition_matrix_monday"
   ]
  },
  {
   "cell_type": "code",
   "execution_count": null,
   "metadata": {},
   "outputs": [],
   "source": [
    "import pygraphviz as pgv\n",
    "\n",
    "locations = ['checkout', 'dairy', 'drinks', 'fruit', 'spices']\n",
    "\n",
    "# init the graph\n",
    "G = pgv.AGraph(strict=False,directed=True)\n",
    "\n",
    "# loop over all pairs of states\n",
    "for state_from in locations:\n",
    "    for state_to in locations:\n",
    "        # get the transition probability\n",
    "        proba = transition_matrix_monday.loc[state_from, state_to]\n",
    "        # draw into the graph if the probability is larger zero\n",
    "        if proba > 0:\n",
    "            G.add_edge(state_from, state_to, label=np.round(proba, 2))\n",
    "\n",
    "# write the graph to hard drive            \n",
    "G.draw('transition_monday.png', prog='dot')"
   ]
  }
 ]
}