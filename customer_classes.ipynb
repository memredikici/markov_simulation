{
 "cells": [
  {
   "cell_type": "code",
   "execution_count": 18,
   "id": "instrumental-malawi",
   "metadata": {},
   "outputs": [],
   "source": [
    "import random \n",
    "import pandas as pd\n",
    "import numpy as np\n",
    "import matplotlib.pyplot as plt"
   ]
  },
  {
   "cell_type": "code",
   "execution_count": 20,
   "id": "naughty-listing",
   "metadata": {
    "scrolled": true
   },
   "outputs": [
    {
     "data": {
      "text/html": [
       "<div>\n",
       "<style scoped>\n",
       "    .dataframe tbody tr th:only-of-type {\n",
       "        vertical-align: middle;\n",
       "    }\n",
       "\n",
       "    .dataframe tbody tr th {\n",
       "        vertical-align: top;\n",
       "    }\n",
       "\n",
       "    .dataframe thead th {\n",
       "        text-align: right;\n",
       "    }\n",
       "</style>\n",
       "<table border=\"1\" class=\"dataframe\">\n",
       "  <thead>\n",
       "    <tr style=\"text-align: right;\">\n",
       "      <th></th>\n",
       "      <th>checkout</th>\n",
       "      <th>dairy</th>\n",
       "      <th>drinks</th>\n",
       "      <th>fruit</th>\n",
       "      <th>spices</th>\n",
       "    </tr>\n",
       "    <tr>\n",
       "      <th>location</th>\n",
       "      <th></th>\n",
       "      <th></th>\n",
       "      <th></th>\n",
       "      <th></th>\n",
       "      <th></th>\n",
       "    </tr>\n",
       "  </thead>\n",
       "  <tbody>\n",
       "    <tr>\n",
       "      <th>checkout</th>\n",
       "      <td>1.000000</td>\n",
       "      <td>0.000000</td>\n",
       "      <td>0.000000</td>\n",
       "      <td>0.000000</td>\n",
       "      <td>0.000000</td>\n",
       "    </tr>\n",
       "    <tr>\n",
       "      <th>dairy</th>\n",
       "      <td>0.089843</td>\n",
       "      <td>0.743920</td>\n",
       "      <td>0.062375</td>\n",
       "      <td>0.051502</td>\n",
       "      <td>0.052361</td>\n",
       "    </tr>\n",
       "    <tr>\n",
       "      <th>drinks</th>\n",
       "      <td>0.208109</td>\n",
       "      <td>0.011236</td>\n",
       "      <td>0.610650</td>\n",
       "      <td>0.090865</td>\n",
       "      <td>0.079140</td>\n",
       "    </tr>\n",
       "    <tr>\n",
       "      <th>fruit</th>\n",
       "      <td>0.206411</td>\n",
       "      <td>0.087959</td>\n",
       "      <td>0.050821</td>\n",
       "      <td>0.607115</td>\n",
       "      <td>0.047694</td>\n",
       "    </tr>\n",
       "    <tr>\n",
       "      <th>spices</th>\n",
       "      <td>0.145765</td>\n",
       "      <td>0.191368</td>\n",
       "      <td>0.176710</td>\n",
       "      <td>0.096906</td>\n",
       "      <td>0.389251</td>\n",
       "    </tr>\n",
       "  </tbody>\n",
       "</table>\n",
       "</div>"
      ],
      "text/plain": [
       "          checkout     dairy    drinks     fruit    spices\n",
       "location                                                  \n",
       "checkout  1.000000  0.000000  0.000000  0.000000  0.000000\n",
       "dairy     0.089843  0.743920  0.062375  0.051502  0.052361\n",
       "drinks    0.208109  0.011236  0.610650  0.090865  0.079140\n",
       "fruit     0.206411  0.087959  0.050821  0.607115  0.047694\n",
       "spices    0.145765  0.191368  0.176710  0.096906  0.389251"
      ]
     },
     "execution_count": 20,
     "metadata": {},
     "output_type": "execute_result"
    }
   ],
   "source": [
    "transition_matrix = pd.read_csv('TM_.csv', index_col=0)\n",
    "transition_matrix"
   ]
  },
  {
   "cell_type": "code",
   "execution_count": 233,
   "id": "colonial-formula",
   "metadata": {},
   "outputs": [],
   "source": [
    "class Customer:\n",
    "    \"\"\"\n",
    "    a single customer that moves through the supermarket\n",
    "    in a MCMC simulation\n",
    "    \"\"\"\n",
    "    def __init__(self, name, state, budget=100):\n",
    "        self.name = name\n",
    "        self.state = state\n",
    "        self.budget = budget\n",
    "    def __repr__(self):\n",
    "        return f'<Customer {self.name} in {self.state}>'\n",
    "    def next_state(self):\n",
    "        '''\n",
    "        Propagates the customer to the next state.\n",
    "        Returns nothing.\n",
    "        '''\n",
    "        self.state = random.choices(['checkout', 'dairy', 'drinks', 'fruit', 'spices'], list(transition_matrix.loc[self.state]) )\n",
    "        self.state = self.state[0]\n",
    "        \n",
    "        \n",
    "    def is_active():\n",
    "        \n",
    "        if self.state != 'checkout'\n",
    "        return True\n",
    "        "
   ]
  },
  {
   "cell_type": "code",
   "execution_count": 234,
   "id": "frequent-nature",
   "metadata": {},
   "outputs": [],
   "source": [
    "cust1 = Customer(\"Jake\", \"drinks\", 50)\n",
    "cust2 = Customer(\"Margaret\", \"spices\")"
   ]
  },
  {
   "cell_type": "code",
   "execution_count": 262,
   "id": "located-brooks",
   "metadata": {
    "scrolled": true
   },
   "outputs": [
    {
     "data": {
      "text/plain": [
       "'checkout'"
      ]
     },
     "execution_count": 262,
     "metadata": {},
     "output_type": "execute_result"
    }
   ],
   "source": [
    "cust1.next_state()\n",
    "cust1.state"
   ]
  },
  {
   "cell_type": "code",
   "execution_count": null,
   "id": "arranged-spirit",
   "metadata": {},
   "outputs": [],
   "source": [
    "if cust1.is_active():\n",
    "    do something"
   ]
  }
 ],
 "metadata": {
  "kernelspec": {
   "display_name": "Python 3",
   "language": "python",
   "name": "python3"
  },
  "language_info": {
   "codemirror_mode": {
    "name": "ipython",
    "version": 3
   },
   "file_extension": ".py",
   "mimetype": "text/x-python",
   "name": "python",
   "nbconvert_exporter": "python",
   "pygments_lexer": "ipython3",
   "version": "3.8.8"
  }
 },
 "nbformat": 4,
 "nbformat_minor": 5
}
