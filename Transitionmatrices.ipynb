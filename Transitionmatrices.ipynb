{
 "cells": [
  {
   "cell_type": "code",
   "execution_count": 1,
   "metadata": {},
   "outputs": [],
   "source": [
    "import pandas as pd\n",
    "import numpy as np\n",
    "\n",
    "def transition_matrix(day):\n",
    "    \"\"\"\n",
    "    calculates the transition matrix of a weekday and saves it as csv file\n",
    "    \"\"\"\n",
    "    df=pd.read_csv(f'./data/weekday/{day}.csv', sep=';', parse_dates=['timestamp'])\n",
    "    df_sorted = df.sort_values(by=['customer_no','timestamp'])\n",
    "    df_sorted['time_diff'] = df_sorted.groupby('customer_no')['timestamp'].diff()\n",
    "    df_sorted.set_index('timestamp', inplace=True)\n",
    "    df_resampled=df_sorted.groupby('customer_no').resample('1T').ffill()\n",
    "    df_resampled.drop(columns=['customer_no'], inplace=True)\n",
    "    df_resampled['next_location'] = df_resampled.groupby('customer_no')['location'].shift(-1)\n",
    "    df_resampled['next_location'].fillna(value='checkout', inplace=True)\n",
    "    transition_matrix = pd.crosstab(df_resampled['location'], df_resampled['next_location'], normalize='index')\n",
    "    transition_matrix.to_csv(f'./data/transition_matrices/transition_matrix_{day}.csv')\n",
    "    return transition_matrix"
   ]
  },
  {
   "cell_type": "code",
   "execution_count": 2,
   "metadata": {},
   "outputs": [
    {
     "name": "stdout",
     "output_type": "stream",
     "text": [
      "\n",
      "\n",
      " next_location  checkout     dairy    drinks     fruit    spices\n",
      "location                                                       \n",
      "checkout       1.000000  0.000000  0.000000  0.000000  0.000000\n",
      "dairy          0.089843  0.743920  0.062375  0.051502  0.052361\n",
      "drinks         0.208109  0.011236  0.610650  0.090865  0.079140\n",
      "fruit          0.206411  0.087959  0.050821  0.607115  0.047694\n",
      "spices         0.145765  0.191368  0.176710  0.096906  0.389251\n",
      "\n",
      "\n",
      " next_location  checkout     dairy    drinks     fruit    spices\n",
      "location                                                       \n",
      "checkout       1.000000  0.000000  0.000000  0.000000  0.000000\n",
      "dairy          0.107741  0.736857  0.052571  0.048527  0.054304\n",
      "drinks         0.229167  0.009838  0.587384  0.086227  0.087384\n",
      "fruit          0.207058  0.098639  0.054847  0.585034  0.054422\n",
      "spices         0.142980  0.211886  0.156761  0.086133  0.402239\n",
      "\n",
      "\n",
      " next_location  checkout     dairy    drinks     fruit    spices\n",
      "location                                                       \n",
      "checkout       1.000000  0.000000  0.000000  0.000000  0.000000\n",
      "dairy          0.109311  0.731942  0.057402  0.047514  0.053831\n",
      "drinks         0.207885  0.012289  0.603175  0.094214  0.082437\n",
      "fruit          0.216074  0.102585  0.053312  0.578756  0.049273\n",
      "spices         0.155466  0.191093  0.157895  0.086640  0.408907\n",
      "\n",
      "\n",
      " next_location  checkout     dairy    drinks     fruit    spices\n",
      "location                                                       \n",
      "checkout       1.000000  0.000000  0.000000  0.000000  0.000000\n",
      "dairy          0.103644  0.739541  0.056680  0.052362  0.047773\n",
      "drinks         0.222400  0.011733  0.586133  0.086400  0.093333\n",
      "fruit          0.198795  0.088479  0.051958  0.608057  0.052711\n",
      "spices         0.152819  0.189169  0.155786  0.088279  0.413947\n",
      "\n",
      "\n",
      " next_location  checkout     dairy    drinks     fruit    spices\n",
      "location                                                       \n",
      "checkout       1.000000  0.000000  0.000000  0.000000  0.000000\n",
      "dairy          0.106598  0.731489  0.063959  0.049265  0.048689\n",
      "drinks         0.213377  0.009421  0.602449  0.081959  0.092793\n",
      "fruit          0.181545  0.102401  0.063016  0.603526  0.049512\n",
      "spices         0.155436  0.184533  0.168453  0.096478  0.395100\n",
      "\n",
      "\n",
      " average_transition_matrix_of_all_weekdays \n",
      "\n",
      " next_location  checkout     dairy    drinks     fruit    spices\n",
      "location                                                       \n",
      "checkout       1.000000  0.000000  0.000000  0.000000  0.000000\n",
      "dairy          0.103427  0.736750  0.058597  0.049834  0.051392\n",
      "drinks         0.216188  0.010903  0.597958  0.087933  0.087018\n",
      "fruit          0.201977  0.096013  0.054791  0.596498  0.050722\n",
      "spices         0.150493  0.193610  0.163121  0.090887  0.401889\n"
     ]
    }
   ],
   "source": [
    "# initialization\n",
    "days=['monday','tuesday', 'wednesday', 'thursday', 'friday']\n",
    "transition_matrix_average=0\n",
    "i=0\n",
    "for day in days:\n",
    "    M=transition_matrix(day)\n",
    "    print('\\n\\n',M)\n",
    "    transition_matrix_average=(transition_matrix_average+M)\n",
    "    i += 1\n",
    "transition_matrix_average = transition_matrix_average/i\n",
    "transition_matrix_average.to_csv('./data/transition_matrices/transition_matrix_average.csv')\n",
    "print('\\n\\n','average_transition_matrix_of_all_weekdays', '\\n\\n', transition_matrix_average)"
   ]
  },
  {
   "cell_type": "code",
   "execution_count": null,
   "metadata": {},
   "outputs": [],
   "source": []
  },
  {
   "cell_type": "code",
   "execution_count": null,
   "metadata": {},
   "outputs": [],
   "source": []
  }
 ],
 "metadata": {
  "kernelspec": {
   "display_name": "Python 3",
   "language": "python",
   "name": "python3"
  },
  "language_info": {
   "codemirror_mode": {
    "name": "ipython",
    "version": 3
   },
   "file_extension": ".py",
   "mimetype": "text/x-python",
   "name": "python",
   "nbconvert_exporter": "python",
   "pygments_lexer": "ipython3",
   "version": "3.8.5"
  }
 },
 "nbformat": 4,
 "nbformat_minor": 4
}
